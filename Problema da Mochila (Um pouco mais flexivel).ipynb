{
 "cells": [
  {
   "cell_type": "code",
   "execution_count": 1,
   "id": "c3319d21",
   "metadata": {},
   "outputs": [],
   "source": [
    "#Importa a biblioteca do Gurobi\n",
    "import gurobipy as gp"
   ]
  },
  {
   "cell_type": "code",
   "execution_count": 6,
   "id": "61b3eff0",
   "metadata": {},
   "outputs": [],
   "source": [
    "#numero de itens\n",
    "qtd_itens = 15\n",
    "\n",
    "#capacidade total da mochila\n",
    "capacidade = 1000 \n",
    "\n",
    "#Criar os rótulos dos itens (como se fossem os nomes para os itens)\n",
    "itens = list()\n",
    "for i in range (qtd_itens):\n",
    "    rotulo = \"Item_{}\".format(i+1)\n",
    "    itens.append(rotulo)\n",
    "    \n",
    "#peso de cada item\n",
    "vet_pesos = [65,94,119,59,149,114,57,136,100,150,122,117,120,130,133] \n",
    "\n",
    "#criar um dicionario para os pesos, pq o gurobi gosta\n",
    "pesos = dict()\n",
    "for idx, peso in enumerate(vet_pesos):\n",
    "    rotulo = itens[idx]\n",
    "    pesos[rotulo] = peso\n",
    "\n",
    "#valor de cada item\n",
    "vet_valores = [455,691,833,425,1064,758,419,914,651,966,828,827,857,837,894] \n",
    "\n",
    "#criar um dicionario para os valores, pq o gurobi gosta\n",
    "valores = dict()\n",
    "for idx, valor in enumerate(vet_valores):\n",
    "    rotulo = itens[idx]\n",
    "    valores[rotulo] = valor"
   ]
  },
  {
   "cell_type": "code",
   "execution_count": 16,
   "id": "29532b8d",
   "metadata": {},
   "outputs": [
    {
     "name": "stdout",
     "output_type": "stream",
     "text": [
      "Gurobi Optimizer version 9.1.2 build v9.1.2rc0 (win64)\n",
      "Thread count: 2 physical cores, 4 logical processors, using up to 4 threads\n",
      "Optimize a model with 1 rows, 15 columns and 15 nonzeros\n",
      "Model fingerprint: 0xdd284ce2\n",
      "Variable types: 0 continuous, 15 integer (15 binary)\n",
      "Coefficient statistics:\n",
      "  Matrix range     [6e+01, 2e+02]\n",
      "  Objective range  [4e+02, 1e+03]\n",
      "  Bounds range     [1e+00, 1e+00]\n",
      "  RHS range        [1e+03, 1e+03]\n",
      "Found heuristic solution: objective 6210.0000000\n",
      "Presolve removed 1 rows and 15 columns\n",
      "Presolve time: 0.00s\n",
      "Presolve: All rows and columns removed\n",
      "\n",
      "Explored 0 nodes (0 simplex iterations) in 0.01 seconds\n",
      "Thread count was 1 (of 4 available processors)\n",
      "\n",
      "Solution count 2: 6987 6210 \n",
      "\n",
      "Optimal solution found (tolerance 1.00e-04)\n",
      "Best objective 6.987000000000e+03, best bound 6.987000000000e+03, gap 0.0000%\n"
     ]
    }
   ],
   "source": [
    "#criar modelo\n",
    "m = gp.Model()\n",
    "\n",
    "#Inserir as variaveis de decisão (15)\n",
    "x = m.addVars(itens, vtype=gp.GRB.BINARY) #metodo adiciona as variaveis da lista de itens diferente da aula 1, além disso como especificado no problema elas são binarias\n",
    "\n",
    "#Funcao objetivo, deixando modelo mais flexivel\n",
    "m.setObjective(\n",
    "    gp.quicksum(x[i] * valores[i] for i in itens),#gerando uma tupla e somando(somatorio i=1 até o total de itens somando o produto (vi*xi)(xi são as variaveis de decisao))\n",
    "    sense = gp.GRB.MAXIMIZE\n",
    ")\n",
    "#Restrição de capacidade\n",
    "c1 = m.addConstr(\n",
    "    gp.quicksum(x[i] * pesos[i] for i in itens) <= capacidade#(somatorio i=1 até o total de itenx wi*xi<=L) \n",
    ")\n",
    "\n",
    "#Exececuta o modelo\n",
    "m.optimize()"
   ]
  },
  {
   "cell_type": "code",
   "execution_count": 21,
   "id": "eee712cf",
   "metadata": {},
   "outputs": [
    {
     "name": "stdout",
     "output_type": "stream",
     "text": [
      "Itens na mochila: \n",
      "Item_1\n",
      "Item_2\n",
      "Item_3\n",
      "Item_4\n",
      "Item_6\n",
      "Item_7\n",
      "Item_11\n",
      "Item_12\n",
      "Item_13\n",
      "Item_15\n"
     ]
    }
   ],
   "source": [
    "#Printar variaveis de decisao na solucao otima\n",
    "print(\"Itens na mochila: \")\n",
    "for item in itens:\n",
    "    #print(item, round(x[item].X)) valores em ponto flutuantes,por isso usar round \n",
    "    if (round(x[item].X)==1):\n",
    "        print(item)"
   ]
  },
  {
   "cell_type": "code",
   "execution_count": 22,
   "id": "74487300",
   "metadata": {},
   "outputs": [
    {
     "name": "stdout",
     "output_type": "stream",
     "text": [
      "Valor Total :  6987.0\n"
     ]
    }
   ],
   "source": [
    "#Printar o valor objetivo\n",
    "print(\"Valor Total : \", m.objVal)\n"
   ]
  },
  {
   "cell_type": "code",
   "execution_count": 23,
   "id": "16eb6646",
   "metadata": {},
   "outputs": [
    {
     "name": "stdout",
     "output_type": "stream",
     "text": [
      "Capacidade Utilizada :  1000.0\n"
     ]
    }
   ],
   "source": [
    "#Printar a capacidade utilizada da mochinla\n",
    "print(\"Capacidade Utilizada : \", capacidade-c1.Slack)"
   ]
  },
  {
   "cell_type": "code",
   "execution_count": null,
   "id": "533db8dd",
   "metadata": {},
   "outputs": [],
   "source": []
  }
 ],
 "metadata": {
  "kernelspec": {
   "display_name": "Python 3",
   "language": "python",
   "name": "python3"
  },
  "language_info": {
   "codemirror_mode": {
    "name": "ipython",
    "version": 3
   },
   "file_extension": ".py",
   "mimetype": "text/x-python",
   "name": "python",
   "nbconvert_exporter": "python",
   "pygments_lexer": "ipython3",
   "version": "3.8.8"
  }
 },
 "nbformat": 4,
 "nbformat_minor": 5
}
