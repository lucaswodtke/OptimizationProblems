{
 "cells": [
  {
   "cell_type": "code",
   "execution_count": 3,
   "id": "bd23428a",
   "metadata": {},
   "outputs": [],
   "source": [
    "#Importa a biblioteca do Gurobi\n",
    "import gurobipy as gp"
   ]
  },
  {
   "cell_type": "code",
   "execution_count": 4,
   "id": "7f3f7ac0",
   "metadata": {},
   "outputs": [
    {
     "name": "stdout",
     "output_type": "stream",
     "text": [
      "Academic license - for non-commercial use only - expires 2021-10-16\n",
      "Using license file C:\\Users\\Asus\\gurobi.lic\n",
      "Gurobi Optimizer version 9.1.2 build v9.1.2rc0 (win64)\n",
      "Thread count: 2 physical cores, 4 logical processors, using up to 4 threads\n",
      "Optimize a model with 3 rows, 3 columns and 7 nonzeros\n",
      "Model fingerprint: 0xf3f23059\n",
      "Coefficient statistics:\n",
      "  Matrix range     [1e+00, 2e+00]\n",
      "  Objective range  [1e+01, 2e+01]\n",
      "  Bounds range     [0e+00, 0e+00]\n",
      "  RHS range        [1e+02, 3e+02]\n",
      "Presolve time: 0.02s\n",
      "Presolved: 3 rows, 3 columns, 7 nonzeros\n",
      "\n",
      "Iteration    Objective       Primal Inf.    Dual Inf.      Time\n",
      "       0    5.2000000e+31   5.000000e+30   5.200000e+01      0s\n",
      "       5    2.3460000e+03   0.000000e+00   0.000000e+00      0s\n",
      "\n",
      "Solved in 5 iterations and 0.04 seconds\n",
      "Optimal objective  2.346000000e+03\n"
     ]
    }
   ],
   "source": [
    "# Criar o modelo\n",
    "m = gp.Model(\"Exemplo1\")\n",
    "\n",
    "#Insere as variáveis de decisão\n",
    "\n",
    "x1 = m.addVar() #Insere uma váriavel ao modelo e o objeto é salvo em x1\n",
    "x2 = m.addVar() #Insere uma váriavel ao modelo e o objeto é salvo em x2\n",
    "x3 = m.addVar() #Insere uma váriavel ao modelo e o objeto é salvo em x3\n",
    "\n",
    "#Definir a função objetivo\n",
    "m.setObjective(12 * x1 + 18 * x2 + 22 * x3, sense=gp.GRB.MAXIMIZE) #GRB namespace do gurobi\n",
    "\n",
    "#Inserir as restrições do modelo\n",
    "\n",
    "m.addConstr (1.5 * x1 + 1.2 * x3 <= 120) #Insere uma restrição ao modelo e o objeto é salvo em c1\n",
    "m.addConstr (2.2 * x2 + 1.4 * x3 <= 200) #Insere uma restrição ao modelo e o objeto é salvo em c2\n",
    "m.addConstr (1.2 * x1 + 2 * x2 + 2.4 * x3 <= 250) #Insere uma restrição ao modelo e o objeto é salvo em c3\n",
    "\n",
    "#Resolver o modelo\n",
    "\n",
    "m.optimize()\n"
   ]
  },
  {
   "cell_type": "code",
   "execution_count": 5,
   "id": "51743720",
   "metadata": {},
   "outputs": [
    {
     "name": "stdout",
     "output_type": "stream",
     "text": [
      "Produto A : 80.0\n",
      "Produto B : 77.0\n",
      "Produto C : 0.0\n"
     ]
    }
   ],
   "source": [
    "# Imprimir o mix de produção\n",
    "\n",
    "print(\"Produto A :\", x1.X ) #x1.X variavel x1, .X valor na solucao ótima\n",
    "print(\"Produto B :\", x2.X ) #x1.X variavel x2, .X valor na solucao ótima\n",
    "print(\"Produto C :\", x3.X ) #x1.X variavel x3, .X valor na solucao ótima"
   ]
  },
  {
   "cell_type": "code",
   "execution_count": 8,
   "id": "76e85ff1",
   "metadata": {},
   "outputs": [
    {
     "name": "stdout",
     "output_type": "stream",
     "text": [
      "Máquina 1 120.0\n",
      "Máquina 2 169.4\n",
      "Máquina 3 250.0\n"
     ]
    }
   ],
   "source": [
    "# Tempo de ocupação das máquinas\n",
    "tempo_m1 = 120 - c1.Slack #Slack é que sobrou do tempo\n",
    "tempo_m2 = 200 - c2.Slack #Slack é que sobrou do tempo\n",
    "tempo_m3 = 250 - c3.Slack #Slack é que sobrou do tempo\n",
    "\n",
    "print(\"Máquina 1\", tempo_m1)\n",
    "print(\"Máquina 2\", tempo_m2)\n",
    "print(\"Máquina 3\", tempo_m3)\n"
   ]
  },
  {
   "cell_type": "code",
   "execution_count": null,
   "id": "e874b233",
   "metadata": {},
   "outputs": [],
   "source": []
  }
 ],
 "metadata": {
  "kernelspec": {
   "display_name": "Python 3",
   "language": "python",
   "name": "python3"
  },
  "language_info": {
   "codemirror_mode": {
    "name": "ipython",
    "version": 3
   },
   "file_extension": ".py",
   "mimetype": "text/x-python",
   "name": "python",
   "nbconvert_exporter": "python",
   "pygments_lexer": "ipython3",
   "version": "3.8.8"
  }
 },
 "nbformat": 4,
 "nbformat_minor": 5
}
